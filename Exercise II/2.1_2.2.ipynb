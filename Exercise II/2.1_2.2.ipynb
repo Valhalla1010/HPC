{
 "cells": [
  {
   "cell_type": "markdown",
   "id": "7171b13d-1776-44d7-91b5-6bd16569b06e",
   "metadata": {},
   "source": [
    "Task 2.1_cProfile"
   ]
  },
  {
   "cell_type": "code",
   "execution_count": 5,
   "id": "104bec37-b6bc-42fa-a08b-a670c7fd8e64",
   "metadata": {},
   "outputs": [
    {
     "name": "stdout",
     "output_type": "stream",
     "text": [
      "### Raw Timing ###\n",
      "run_experiment took 24.104347 seconds\n",
      "\n",
      "### cProfile ###\n",
      "         205 function calls in 24.420 seconds\n",
      "\n",
      "   Ordered by: standard name\n",
      "\n",
      "   ncalls  tottime  percall  cumtime  percall filename:lineno(function)\n",
      "        1    0.005    0.005   24.420   24.420 <string>:1(<module>)\n",
      "        1    0.302    0.302   24.415   24.415 D.py:22(run_experiment)\n",
      "        1    0.002    0.002    0.002    0.002 D.py:25(<listcomp>)\n",
      "      100   24.028    0.240   24.111    0.241 D.py:6(evolve)\n",
      "      100    0.082    0.001    0.082    0.001 D.py:8(<listcomp>)\n",
      "        1    0.000    0.000   24.420   24.420 {built-in method builtins.exec}\n",
      "        1    0.000    0.000    0.000    0.000 {method 'disable' of '_lsprof.Profiler' objects}\n",
      "\n",
      "\n"
     ]
    }
   ],
   "source": [
    "! python D.py"
   ]
  },
  {
   "cell_type": "code",
   "execution_count": 6,
   "id": "07668c74-8802-4072-8748-c76cc8707b73",
   "metadata": {},
   "outputs": [
    {
     "name": "stdout",
     "output_type": "stream",
     "text": [
      "### Raw Timing ###\n",
      "run_experiment took 24.215216 seconds\n"
     ]
    }
   ],
   "source": [
    "! python -m cProfile -o profile.stats D.py"
   ]
  },
  {
   "cell_type": "code",
   "execution_count": 7,
   "id": "bd0c81fc-048b-412e-9c49-f5b4a02e5b43",
   "metadata": {},
   "outputs": [
    {
     "name": "stdout",
     "output_type": "stream",
     "text": [
      "Thu Jan 30 17:18:21 2025    profile.stats\n",
      "\n",
      "         13883 function calls (13705 primitive calls) in 24.243 seconds\n",
      "\n",
      "   Ordered by: cumulative time\n",
      "\n",
      "   ncalls  tottime  percall  cumtime  percall filename:lineno(function)\n",
      "     20/1    0.000    0.000   24.243   24.243 {built-in method builtins.exec}\n",
      "        1    0.000    0.000   24.243   24.243 D.py:1(<module>)\n",
      "        1    0.005    0.005   24.215   24.215 D.py:39(profile_experiment)\n",
      "        1    0.317    0.317   24.210   24.210 D.py:22(run_experiment)\n",
      "      100   23.767    0.238   23.891    0.239 D.py:6(evolve)\n",
      "      100    0.124    0.001    0.124    0.001 D.py:8(<listcomp>)\n",
      "     36/3    0.000    0.000    0.028    0.009 <frozen importlib._bootstrap>:1002(_find_and_load)\n",
      "     36/3    0.000    0.000    0.028    0.009 <frozen importlib._bootstrap>:967(_find_and_load_unlocked)\n",
      "     31/3    0.000    0.000    0.026    0.009 <frozen importlib._bootstrap>:659(_load_unlocked)\n",
      "     19/3    0.000    0.000    0.026    0.009 <frozen importlib._bootstrap_external>:844(exec_module)\n",
      "     45/3    0.000    0.000    0.025    0.008 <frozen importlib._bootstrap>:220(_call_with_frames_removed)\n",
      "        1    0.000    0.000    0.025    0.025 C:\\Users\\davii\\AppData\\Roaming\\Python\\Python39\\site-packages\\line_profiler\\__init__.py:1(<module>)\n",
      "        1    0.000    0.000    0.023    0.023 C:\\Users\\davii\\AppData\\Roaming\\Python\\Python39\\site-packages\\line_profiler\\line_profiler.py:2(<module>)\n",
      "        1    0.000    0.000    0.014    0.014 C:\\Program Files\\Python39\\lib\\tempfile.py:1(<module>)\n",
      "       19    0.000    0.000    0.011    0.001 <frozen importlib._bootstrap_external>:916(get_code)\n",
      "        1    0.000    0.000    0.010    0.010 C:\\Program Files\\Python39\\lib\\shutil.py:1(<module>)\n",
      "       34    0.000    0.000    0.010    0.000 <frozen importlib._bootstrap>:901(_find_spec)\n",
      "       25    0.000    0.000    0.009    0.000 <frozen importlib._bootstrap_external>:1406(find_spec)\n",
      "       25    0.000    0.000    0.009    0.000 <frozen importlib._bootstrap_external>:1374(_get_spec)\n",
      "      109    0.001    0.000    0.009    0.000 <frozen importlib._bootstrap_external>:1505(find_spec)\n",
      "       19    0.000    0.000    0.007    0.000 <frozen importlib._bootstrap_external>:1036(get_data)\n",
      "       19    0.006    0.000    0.006    0.000 {built-in method io.open_code}\n",
      "      154    0.000    0.000    0.005    0.000 <frozen importlib._bootstrap_external>:135(_path_stat)\n",
      "      154    0.005    0.000    0.005    0.000 {built-in method nt.stat}\n",
      "       31    0.000    0.000    0.004    0.000 <frozen importlib._bootstrap>:558(module_from_spec)\n",
      "        1    0.000    0.000    0.004    0.004 C:\\Program Files\\Python39\\lib\\bz2.py:1(<module>)\n",
      "        1    0.000    0.000    0.004    0.004 C:\\Program Files\\Python39\\lib\\pickle.py:1(<module>)\n",
      "      536    0.002    0.000    0.003    0.000 <frozen importlib._bootstrap_external>:91(_path_join)\n",
      "        3    0.000    0.000    0.003    0.001 <frozen importlib._bootstrap_external>:1171(create_module)\n",
      "        3    0.003    0.001    0.003    0.001 {built-in method _imp.create_dynamic}\n",
      "       19    0.000    0.000    0.002    0.000 <frozen importlib._bootstrap_external>:645(_compile_bytecode)\n",
      "       19    0.002    0.000    0.002    0.000 {built-in method marshal.loads}\n",
      "        1    0.002    0.002    0.002    0.002 D.py:25(<listcomp>)\n",
      "        1    0.000    0.000    0.001    0.001 C:\\Program Files\\Python39\\lib\\random.py:1(<module>)\n",
      "        1    0.000    0.000    0.001    0.001 C:\\Program Files\\Python39\\lib\\lzma.py:1(<module>)\n",
      "    70/68    0.001    0.000    0.001    0.000 {built-in method builtins.__build_class__}\n",
      "        1    0.000    0.000    0.001    0.001 C:\\Program Files\\Python39\\lib\\fnmatch.py:1(<module>)\n",
      "       25    0.000    0.000    0.001    0.000 <frozen importlib._bootstrap_external>:145(_path_is_mode_type)\n",
      "       24    0.000    0.000    0.001    0.000 <frozen importlib._bootstrap_external>:154(_path_isfile)\n",
      "      2/1    0.000    0.000    0.001    0.001 {built-in method builtins.__import__}\n",
      "       19    0.001    0.000    0.001    0.000 {method 'read' of '_io.BufferedReader' objects}\n",
      "       31    0.000    0.000    0.001    0.000 <frozen importlib._bootstrap>:486(_init_module_attrs)\n",
      "       19    0.000    0.000    0.001    0.000 <frozen importlib._bootstrap_external>:1077(path_stats)\n",
      "       38    0.000    0.000    0.001    0.000 <frozen importlib._bootstrap_external>:361(cache_from_source)\n",
      "       36    0.000    0.000    0.000    0.000 <frozen importlib._bootstrap>:156(__enter__)\n",
      "       41    0.000    0.000    0.000    0.000 <frozen importlib._bootstrap>:385(cached)\n",
      "       22    0.000    0.000    0.000    0.000 <frozen importlib._bootstrap_external>:491(_get_cached)\n",
      "      536    0.000    0.000    0.000    0.000 <frozen importlib._bootstrap_external>:114(<listcomp>)\n",
      "        1    0.000    0.000    0.000    0.000 C:\\Program Files\\Python39\\lib\\pickle.py:197(<listcomp>)\n",
      "       36    0.000    0.000    0.000    0.000 <frozen importlib._bootstrap>:166(_get_module_lock)\n",
      "      107    0.000    0.000    0.000    0.000 C:\\Program Files\\Python39\\lib\\re.py:188(match)\n",
      "        1    0.000    0.000    0.000    0.000 C:\\Program Files\\Python39\\lib\\argparse.py:4(<module>)\n",
      "        9    0.000    0.000    0.000    0.000 <frozen importlib._bootstrap>:757(create_module)\n",
      "     1713    0.000    0.000    0.000    0.000 {method 'endswith' of 'str' objects}\n",
      "       19    0.000    0.000    0.000    0.000 {method '__exit__' of '_io._IOBase' objects}\n",
      "        9    0.000    0.000    0.000    0.000 {built-in method _imp.create_builtin}\n",
      "      107    0.000    0.000    0.000    0.000 C:\\Program Files\\Python39\\lib\\re.py:289(_compile)\n",
      "        1    0.000    0.000    0.000    0.000 C:\\Program Files\\Python39\\lib\\threading.py:1(<module>)\n",
      "     1119    0.000    0.000    0.000    0.000 {method 'startswith' of 'str' objects}\n",
      "      131    0.000    0.000    0.000    0.000 <frozen importlib._bootstrap_external>:1337(_path_importer_cache)\n",
      "     1646    0.000    0.000    0.000    0.000 {method 'rstrip' of 'str' objects}\n",
      "       36    0.000    0.000    0.000    0.000 <frozen importlib._bootstrap>:58(__init__)\n",
      "        3    0.000    0.000    0.000    0.000 <frozen importlib._bootstrap_external>:1179(exec_module)\n",
      "        1    0.000    0.000    0.000    0.000 C:\\Program Files\\Python39\\lib\\sre_compile.py:759(compile)\n",
      "        3    0.000    0.000    0.000    0.000 {built-in method _imp.exec_dynamic}\n",
      "       75    0.000    0.000    0.000    0.000 {built-in method _thread.allocate_lock}\n",
      "        4    0.000    0.000    0.000    0.000 C:\\Program Files\\Python39\\lib\\abc.py:105(__new__)\n",
      "       38    0.000    0.000    0.000    0.000 <frozen importlib._bootstrap_external>:127(_path_split)\n",
      "       22    0.000    0.000    0.000    0.000 <frozen importlib._bootstrap_external>:1500(_get_spec)\n",
      "        1    0.000    0.000    0.000    0.000 <frozen importlib._bootstrap_external>:1556(_fill_cache)\n",
      "      576    0.000    0.000    0.000    0.000 {method 'join' of 'str' objects}\n",
      "1193/1191    0.000    0.000    0.000    0.000 {built-in method builtins.len}\n",
      "       34    0.000    0.000    0.000    0.000 <frozen importlib._bootstrap>:736(find_spec)\n",
      "        1    0.000    0.000    0.000    0.000 C:\\Program Files\\Python39\\lib\\struct.py:1(<module>)\n",
      "        1    0.000    0.000    0.000    0.000 C:\\Program Files\\Python39\\lib\\_compression.py:1(<module>)\n",
      "       36    0.000    0.000    0.000    0.000 <frozen importlib._bootstrap>:160(__exit__)\n",
      "      569    0.000    0.000    0.000    0.000 <frozen importlib._bootstrap>:231(_verbose_message)\n",
      "      175    0.000    0.000    0.000    0.000 {built-in method builtins.getattr}\n",
      "        1    0.000    0.000    0.000    0.000 <frozen importlib._bootstrap_external>:1324(_path_hooks)\n",
      "        1    0.000    0.000    0.000    0.000 C:\\Program Files\\Python39\\lib\\timeit.py:3(<module>)\n",
      "        1    0.000    0.000    0.000    0.000 C:\\Users\\davii\\AppData\\Roaming\\Python\\Python39\\site-packages\\line_profiler\\explicit_profiler.py:1(<module>)\n",
      "        1    0.000    0.000    0.000    0.000 C:\\Program Files\\Python39\\lib\\collections\\__init__.py:345(namedtuple)\n",
      "       19    0.000    0.000    0.000    0.000 <frozen importlib._bootstrap_external>:560(_classify_pyc)\n",
      "       36    0.000    0.000    0.000    0.000 <frozen importlib._bootstrap>:112(release)\n",
      "       38    0.000    0.000    0.000    0.000 {built-in method builtins.max}\n",
      "        1    0.000    0.000    0.000    0.000 {built-in method nt.listdir}\n",
      "       22    0.000    0.000    0.000    0.000 <frozen importlib._bootstrap_external>:696(spec_from_file_location)\n",
      "        1    0.000    0.000    0.000    0.000 C:\\Program Files\\Python39\\lib\\_compat_pickle.py:9(<module>)\n",
      "       36    0.000    0.000    0.000    0.000 <frozen importlib._bootstrap>:87(acquire)\n",
      "        4    0.000    0.000    0.000    0.000 {built-in method __new__ of type object at 0x00007FFA42133C60}\n",
      "        1    0.000    0.000    0.000    0.000 C:\\Program Files\\Python39\\lib\\sre_parse.py:937(parse)\n",
      "      619    0.000    0.000    0.000    0.000 {method 'append' of 'list' objects}\n",
      "        1    0.000    0.000    0.000    0.000 C:\\Program Files\\Python39\\lib\\sre_compile.py:598(_code)\n",
      "        1    0.000    0.000    0.000    0.000 C:\\Program Files\\Python39\\lib\\bisect.py:1(<module>)\n",
      "      198    0.000    0.000    0.000    0.000 {built-in method builtins.hasattr}\n",
      "        1    0.000    0.000    0.000    0.000 C:\\Program Files\\Python39\\lib\\sre_parse.py:435(_parse_sub)\n",
      "       57    0.000    0.000    0.000    0.000 <frozen importlib._bootstrap_external>:79(_unpack_uint32)\n",
      "      109    0.000    0.000    0.000    0.000 <frozen importlib._bootstrap_external>:64(_relax_case)\n",
      "        1    0.000    0.000    0.000    0.000 C:\\Program Files\\Python39\\lib\\sre_parse.py:493(_parse)\n",
      "       19    0.000    0.000    0.000    0.000 <frozen importlib._bootstrap_external>:593(_validate_timestamp_pyc)\n",
      "        9    0.000    0.000    0.000    0.000 <frozen importlib._bootstrap>:415(spec_from_loader)\n",
      "      114    0.000    0.000    0.000    0.000 <frozen importlib._bootstrap_external>:129(<genexpr>)\n",
      "        4    0.000    0.000    0.000    0.000 {built-in method _abc._abc_init}\n",
      "       84    0.000    0.000    0.000    0.000 <frozen importlib._bootstrap>:874(__enter__)\n",
      "      218    0.000    0.000    0.000    0.000 {method 'rpartition' of 'str' objects}\n",
      "       36    0.000    0.000    0.000    0.000 <frozen importlib._bootstrap>:185(cb)\n",
      "        1    0.000    0.000    0.000    0.000 <frozen importlib._bootstrap_external>:1597(path_hook_for_FileFinder)\n",
      "        1    0.000    0.000    0.000    0.000 {built-in method builtins.eval}\n",
      "        1    0.000    0.000    0.000    0.000 C:\\Program Files\\Python39\\lib\\threading.py:1307(__init__)\n",
      "      107    0.000    0.000    0.000    0.000 {method 'match' of 're.Pattern' objects}\n",
      "      297    0.000    0.000    0.000    0.000 {built-in method builtins.isinstance}\n",
      "        1    0.000    0.000    0.000    0.000 <frozen zipimport>:63(__init__)\n",
      "      156    0.000    0.000    0.000    0.000 {built-in method _imp.acquire_lock}\n",
      "      2/1    0.000    0.000    0.000    0.000 C:\\Program Files\\Python39\\lib\\sre_compile.py:71(_compile)\n",
      "        2    0.000    0.000    0.000    0.000 {built-in method builtins.print}\n",
      "       31    0.000    0.000    0.000    0.000 {built-in method _imp.is_builtin}\n",
      "       84    0.000    0.000    0.000    0.000 <frozen importlib._bootstrap>:878(__exit__)\n",
      "       22    0.000    0.000    0.000    0.000 {built-in method nt.getcwd}\n",
      "       34    0.000    0.000    0.000    0.000 <frozen importlib._bootstrap>:351(__init__)\n",
      "        1    0.000    0.000    0.000    0.000 <frozen importlib._bootstrap_external>:159(_path_isdir)\n",
      "        3    0.000    0.000    0.000    0.000 C:\\Program Files\\Python39\\lib\\sre_compile.py:276(_optimize_charset)\n",
      "        1    0.000    0.000    0.000    0.000 C:\\Program Files\\Python39\\lib\\sre_compile.py:536(_compile_info)\n",
      "       35    0.000    0.000    0.000    0.000 <frozen importlib._bootstrap>:398(parent)\n",
      "       36    0.000    0.000    0.000    0.000 <frozen importlib._bootstrap>:152(__init__)\n",
      "       25    0.000    0.000    0.000    0.000 <frozen importlib._bootstrap>:811(find_spec)\n",
      "       19    0.000    0.000    0.000    0.000 {built-in method _imp._fix_co_filename}\n",
      "        1    0.000    0.000    0.000    0.000 C:\\Program Files\\Python39\\lib\\functools.py:517(decorating_function)\n",
      "      156    0.000    0.000    0.000    0.000 {built-in method _imp.release_lock}\n",
      "        1    0.000    0.000    0.000    0.000 C:\\Program Files\\Python39\\lib\\functools.py:35(update_wrapper)\n",
      "        1    0.000    0.000    0.000    0.000 C:\\Program Files\\Python39\\lib\\random.py:117(__init__)\n",
      "       76    0.000    0.000    0.000    0.000 {method 'rfind' of 'str' objects}\n",
      "        1    0.000    0.000    0.000    0.000 C:\\Program Files\\Python39\\lib\\pickle.py:1136(_Unpickler)\n",
      "        1    0.000    0.000    0.000    0.000 C:\\Program Files\\Python39\\lib\\random.py:126(seed)\n",
      "       19    0.000    0.000    0.000    0.000 <frozen importlib._bootstrap_external>:523(_check_name_wrapper)\n",
      "        1    0.000    0.000    0.000    0.000 C:\\Program Files\\Python39\\lib\\cProfile.py:3(<module>)\n",
      "        4    0.000    0.000    0.000    0.000 C:\\Program Files\\Python39\\lib\\encodings\\cp1252.py:18(encode)\n",
      "        4    0.000    0.000    0.000    0.000 <frozen importlib._bootstrap_external>:167(_path_isabs)\n",
      "        1    0.000    0.000    0.000    0.000 C:\\Program Files\\Python39\\lib\\threading.py:795(__init__)\n",
      "        9    0.000    0.000    0.000    0.000 <frozen importlib._bootstrap>:241(_requires_builtin_wrapper)\n",
      "        3    0.000    0.000    0.000    0.000 <frozen importlib._bootstrap_external>:1155(__init__)\n",
      "        9    0.000    0.000    0.000    0.000 <frozen importlib._bootstrap>:765(exec_module)\n",
      "        1    0.000    0.000    0.000    0.000 <frozen importlib._bootstrap_external>:1466(__init__)\n",
      "        1    0.000    0.000    0.000    0.000 {built-in method builtins.dir}\n",
      "       19    0.000    0.000    0.000    0.000 <frozen importlib._bootstrap>:35(_new_module)\n",
      "       74    0.000    0.000    0.000    0.000 {method 'get' of 'dict' objects}\n",
      "       74    0.000    0.000    0.000    0.000 {method '__exit__' of '_thread.lock' objects}\n",
      "        1    0.000    0.000    0.000    0.000 {function Random.seed at 0x0000027AD67D1F70}\n",
      "        1    0.000    0.000    0.000    0.000 C:\\Program Files\\Python39\\lib\\argparse.py:154(HelpFormatter)\n",
      "       57    0.000    0.000    0.000    0.000 {built-in method from_bytes}\n",
      "       73    0.000    0.000    0.000    0.000 {built-in method _thread.get_ident}\n",
      "        1    0.000    0.000    0.000    0.000 C:\\Program Files\\Python39\\lib\\pickle.py:407(_Pickler)\n",
      "        1    0.000    0.000    0.000    0.000 C:\\Program Files\\Python39\\lib\\posixpath.py:1(<module>)\n",
      "        1    0.000    0.000    0.000    0.000 C:\\Program Files\\Python39\\lib\\threading.py:535(set)\n",
      "        1    0.000    0.000    0.000    0.000 C:\\Program Files\\Python39\\lib\\threading.py:784(Thread)\n",
      "        1    0.000    0.000    0.000    0.000 C:\\Program Files\\Python39\\lib\\argparse.py:1128(_SubParsersAction)\n",
      "        1    0.000    0.000    0.000    0.000 C:\\Program Files\\Python39\\lib\\threading.py:943(_set_tstate_lock)\n",
      "       13    0.000    0.000    0.000    0.000 C:\\Program Files\\Python39\\lib\\sre_parse.py:254(get)\n",
      "       60    0.000    0.000    0.000    0.000 {built-in method nt.fspath}\n",
      "       86    0.000    0.000    0.000    0.000 C:\\Program Files\\Python39\\lib\\_compat_pickle.py:167(<genexpr>)\n",
      "       19    0.000    0.000    0.000    0.000 <frozen importlib._bootstrap_external>:1006(__init__)\n",
      "       31    0.000    0.000    0.000    0.000 {method 'pop' of 'dict' objects}\n",
      "        1    0.000    0.000    0.000    0.000 C:\\Program Files\\Python39\\lib\\enum.py:977(__and__)\n",
      "       25    0.000    0.000    0.000    0.000 {built-in method _imp.is_frozen}\n",
      "        1    0.000    0.000    0.000    0.000 C:\\Program Files\\Python39\\lib\\sre_compile.py:411(_mk_bitmap)\n",
      "       14    0.000    0.000    0.000    0.000 {method 'format' of 'str' objects}\n",
      "        1    0.000    0.000    0.000    0.000 C:\\Program Files\\Python39\\lib\\threading.py:521(__init__)\n",
      "      2/1    0.000    0.000    0.000    0.000 C:\\Program Files\\Python39\\lib\\sre_parse.py:174(getwidth)\n",
      "        1    0.000    0.000    0.000    0.000 C:\\Program Files\\Python39\\lib\\random.py:101(Random)\n",
      "        1    0.000    0.000    0.000    0.000 C:\\Program Files\\Python39\\lib\\threading.py:374(notify_all)\n",
      "        1    0.000    0.000    0.000    0.000 C:\\Program Files\\Python39\\lib\\argparse.py:1102(_VersionAction)\n",
      "       17    0.000    0.000    0.000    0.000 C:\\Program Files\\Python39\\lib\\sre_parse.py:233(__next)\n",
      "        1    0.000    0.000    0.000    0.000 C:\\Program Files\\Python39\\lib\\tempfile.py:627(SpooledTemporaryFile)\n",
      "        9    0.000    0.000    0.000    0.000 {built-in method _imp.exec_builtin}\n",
      "       43    0.000    0.000    0.000    0.000 C:\\Program Files\\Python39\\lib\\_compat_pickle.py:165(<genexpr>)\n",
      "        4    0.000    0.000    0.000    0.000 {built-in method _codecs.charmap_encode}\n",
      "        5    0.000    0.000    0.000    0.000 {method 'update' of 'dict' objects}\n",
      "       31    0.000    0.000    0.000    0.000 <frozen importlib._bootstrap>:406(has_location)\n",
      "       10    0.000    0.000    0.000    0.000 C:\\Program Files\\Python39\\lib\\sre_parse.py:164(__getitem__)\n",
      "        5    0.000    0.000    0.000    0.000 {method 'extend' of 'list' objects}\n",
      "        2    0.000    0.000    0.000    0.000 C:\\Program Files\\Python39\\lib\\sre_parse.py:432(_uniq)\n",
      "        4    0.000    0.000    0.000    0.000 {built-in method nt._path_splitroot}\n",
      "        1    0.000    0.000    0.000    0.000 C:\\Program Files\\Python39\\lib\\argparse.py:1671(ArgumentParser)\n",
      "        1    0.000    0.000    0.000    0.000 <frozen importlib._bootstrap_external>:1585(<setcomp>)\n",
      "        3    0.000    0.000    0.000    0.000 C:\\Program Files\\Python39\\lib\\sre_compile.py:249(_compile_charset)\n",
      "        1    0.000    0.000    0.000    0.000 C:\\Program Files\\Python39\\lib\\threading.py:228(__init__)\n",
      "        1    0.000    0.000    0.000    0.000 C:\\Program Files\\Python39\\lib\\bz2.py:27(BZ2File)\n",
      "        1    0.000    0.000    0.000    0.000 C:\\Program Files\\Python39\\lib\\tempfile.py:770(TemporaryDirectory)\n",
      "        1    0.000    0.000    0.000    0.000 C:\\Program Files\\Python39\\lib\\sre_compile.py:413(<listcomp>)\n",
      "        1    0.000    0.000    0.000    0.000 C:\\Program Files\\Python39\\lib\\threading.py:351(notify)\n",
      "        2    0.000    0.000    0.000    0.000 C:\\Program Files\\Python39\\lib\\enum.py:358(__call__)\n",
      "        1    0.000    0.000    0.000    0.000 C:\\Program Files\\Python39\\lib\\threading.py:768(_maintain_shutdown_locks)\n",
      "        1    0.000    0.000    0.000    0.000 C:\\Program Files\\Python39\\lib\\lzma.py:38(LZMAFile)\n",
      "       19    0.000    0.000    0.000    0.000 <frozen importlib._bootstrap_external>:841(create_module)\n",
      "        1    0.000    0.000    0.000    0.000 C:\\Program Files\\Python39\\lib\\random.py:217(__init_subclass__)\n",
      "        1    0.000    0.000    0.000    0.000 {built-in method math.exp}\n",
      "        1    0.000    0.000    0.000    0.000 C:\\Program Files\\Python39\\lib\\sre_parse.py:224(__init__)\n",
      "       11    0.000    0.000    0.000    0.000 {method 'find' of 'bytearray' objects}\n",
      "       18    0.000    0.000    0.000    0.000 {method 'add' of 'set' objects}\n",
      "        8    0.000    0.000    0.000    0.000 {built-in method builtins.setattr}\n",
      "        8    0.000    0.000    0.000    0.000 C:\\Program Files\\Python39\\lib\\sre_parse.py:249(match)\n",
      "        1    0.000    0.000    0.000    0.000 C:\\Users\\davii\\AppData\\Roaming\\Python\\Python39\\site-packages\\line_profiler\\line_profiler.py:53(LineProfiler)\n",
      "        1    0.000    0.000    0.000    0.000 C:\\Program Files\\Python39\\lib\\_weakrefset.py:37(__init__)\n",
      "        1    0.000    0.000    0.000    0.000 C:\\Program Files\\Python39\\lib\\threading.py:82(RLock)\n",
      "        2    0.000    0.000    0.000    0.000 {built-in method math.log}\n",
      "       19    0.000    0.000    0.000    0.000 <frozen importlib._bootstrap_external>:1031(get_filename)\n",
      "        1    0.000    0.000    0.000    0.000 C:\\Users\\davii\\AppData\\Roaming\\Python\\Python39\\site-packages\\line_profiler\\explicit_profiler.py:236(__init__)\n",
      "       24    0.000    0.000    0.000    0.000 {method 'lower' of 'str' objects}\n",
      "        1    0.000    0.000    0.000    0.000 C:\\Program Files\\Python39\\lib\\tempfile.py:128(_RandomNameSequence)\n",
      "        1    0.000    0.000    0.000    0.000 C:\\Program Files\\Python39\\lib\\threading.py:589(Barrier)\n",
      "        1    0.000    0.000    0.000    0.000 C:\\Program Files\\Python39\\lib\\random.py:778(SystemRandom)\n",
      "        1    0.000    0.000    0.000    0.000 C:\\Program Files\\Python39\\lib\\sre_compile.py:423(_simple)\n",
      "        4    0.000    0.000    0.000    0.000 C:\\Program Files\\Python39\\lib\\sre_parse.py:286(tell)\n",
      "        1    0.000    0.000    0.000    0.000 C:\\Program Files\\Python39\\lib\\_compression.py:33(DecompressReader)\n",
      "       13    0.000    0.000    0.000    0.000 {method 'partition' of 'str' objects}\n",
      "        1    0.000    0.000    0.000    0.000 C:\\Program Files\\Python39\\lib\\argparse.py:1307(_ActionsContainer)\n",
      "        1    0.000    0.000    0.000    0.000 C:\\Program Files\\Python39\\lib\\sre_compile.py:461(_get_literal_prefix)\n",
      "        6    0.000    0.000    0.000    0.000 {method 'replace' of 'str' objects}\n",
      "        4    0.000    0.000    0.000    0.000 C:\\Program Files\\Python39\\lib\\sre_parse.py:160(__len__)\n",
      "        1    0.000    0.000    0.000    0.000 C:\\Program Files\\Python39\\lib\\threading.py:216(Condition)\n",
      "        1    0.000    0.000    0.000    0.000 {built-in method math.sqrt}\n",
      "        2    0.000    0.000    0.000    0.000 {built-in method fromkeys}\n",
      "        9    0.000    0.000    0.000    0.000 <frozen importlib._bootstrap>:782(is_package)\n",
      "        2    0.000    0.000    0.000    0.000 C:\\Program Files\\Python39\\lib\\enum.py:670(__new__)\n",
      "        1    0.000    0.000    0.000    0.000 C:\\Program Files\\Python39\\lib\\_weakrefset.py:86(add)\n",
      "        1    0.000    0.000    0.000    0.000 C:\\Program Files\\Python39\\lib\\timeit.py:83(Timer)\n",
      "        1    0.000    0.000    0.000    0.000 C:\\Program Files\\Python39\\lib\\pickle.py:200(_Framer)\n",
      "        1    0.000    0.000    0.000    0.000 C:\\Program Files\\Python39\\lib\\tempfile.py:411(_TemporaryFileCloser)\n",
      "        1    0.000    0.000    0.000    0.000 C:\\Program Files\\Python39\\lib\\threading.py:95(_RLock)\n",
      "        8    0.000    0.000    0.000    0.000 <frozen importlib._bootstrap_external>:1472(<genexpr>)\n",
      "        1    0.000    0.000    0.000    0.000 C:\\Program Files\\Python39\\lib\\functools.py:478(lru_cache)\n",
      "        1    0.000    0.000    0.000    0.000 C:\\Program Files\\Python39\\lib\\sre_parse.py:921(fix_flags)\n",
      "        1    0.000    0.000    0.000    0.000 C:\\Program Files\\Python39\\lib\\tempfile.py:454(_TemporaryFileWrapper)\n",
      "        1    0.000    0.000    0.000    0.000 C:\\Program Files\\Python39\\lib\\threading.py:271(_is_owned)\n",
      "        1    0.000    0.000    0.000    0.000 C:\\Program Files\\Python39\\lib\\threading.py:940(_set_native_id)\n",
      "        5    0.000    0.000    0.000    0.000 {built-in method builtins.min}\n",
      "        1    0.000    0.000    0.000    0.000 C:\\Program Files\\Python39\\lib\\sre_compile.py:492(_get_charset_prefix)\n",
      "        1    0.000    0.000    0.000    0.000 C:\\Program Files\\Python39\\lib\\cProfile.py:27(Profile)\n",
      "        1    0.000    0.000    0.000    0.000 {built-in method _thread._set_sentinel}\n",
      "        3    0.000    0.000    0.000    0.000 C:\\Program Files\\Python39\\lib\\sre_parse.py:172(append)\n",
      "        1    0.000    0.000    0.000    0.000 C:\\Program Files\\Python39\\lib\\threading.py:256(__enter__)\n",
      "        1    0.000    0.000    0.000    0.000 C:\\Users\\davii\\AppData\\Roaming\\Python\\Python39\\site-packages\\line_profiler\\explicit_profiler.py:174(GlobalProfiler)\n",
      "        4    0.000    0.000    0.000    0.000 C:\\Program Files\\Python39\\lib\\collections\\__init__.py:419(<genexpr>)\n",
      "        2    0.000    0.000    0.000    0.000 C:\\Program Files\\Python39\\lib\\sre_compile.py:595(isstring)\n",
      "        1    0.000    0.000    0.000    0.000 C:\\Program Files\\Python39\\lib\\pickle.py:263(_Unframer)\n",
      "        1    0.000    0.000    0.000    0.000 C:\\Program Files\\Python39\\lib\\_compression.py:9(BaseStream)\n",
      "        1    0.000    0.000    0.000    0.000 C:\\Program Files\\Python39\\lib\\threading.py:1222(_make_invoke_excepthook)\n",
      "        1    0.000    0.000    0.000    0.000 {built-in method _sre.compile}\n",
      "        4    0.000    0.000    0.000    0.000 {method 'isidentifier' of 'str' objects}\n",
      "        1    0.000    0.000    0.000    0.000 C:\\Program Files\\Python39\\lib\\sre_parse.py:76(__init__)\n",
      "        2    0.000    0.000    0.000    0.000 C:\\Program Files\\Python39\\lib\\sre_parse.py:111(__init__)\n",
      "        1    0.000    0.000    0.000    0.000 C:\\Program Files\\Python39\\lib\\argparse.py:862(BooleanOptionalAction)\n",
      "        2    0.000    0.000    0.000    0.000 {built-in method time.perf_counter}\n",
      "        2    0.000    0.000    0.000    0.000 C:\\Program Files\\Python39\\lib\\sre_compile.py:453(_get_iscased)\n",
      "        2    0.000    0.000    0.000    0.000 C:\\Program Files\\Python39\\lib\\sre_parse.py:81(groups)\n",
      "        1    0.000    0.000    0.000    0.000 C:\\Program Files\\Python39\\lib\\threading.py:510(Event)\n",
      "        1    0.000    0.000    0.000    0.000 C:\\Program Files\\Python39\\lib\\argparse.py:107(_AttributeHolder)\n",
      "        2    0.000    0.000    0.000    0.000 {method 'acquire' of '_thread.lock' objects}\n",
      "        2    0.000    0.000    0.000    0.000 {method 'setter' of 'property' objects}\n",
      "        4    0.000    0.000    0.000    0.000 {built-in method sys.intern}\n",
      "        1    0.000    0.000    0.000    0.000 C:\\Program Files\\Python39\\lib\\threading.py:386(Semaphore)\n",
      "        1    0.000    0.000    0.000    0.000 C:\\Program Files\\Python39\\lib\\threading.py:469(BoundedSemaphore)\n",
      "        1    0.000    0.000    0.000    0.000 {method 'split' of 'str' objects}\n",
      "        1    0.000    0.000    0.000    0.000 C:\\Program Files\\Python39\\lib\\threading.py:259(__exit__)\n",
      "        1    0.000    0.000    0.000    0.000 C:\\Program Files\\Python39\\lib\\threading.py:936(_set_ident)\n",
      "        1    0.000    0.000    0.000    0.000 C:\\Program Files\\Python39\\lib\\threading.py:1275(Timer)\n",
      "        1    0.000    0.000    0.000    0.000 C:\\Program Files\\Python39\\lib\\threading.py:1326(_DummyThread)\n",
      "        1    0.000    0.000    0.000    0.000 C:\\Program Files\\Python39\\lib\\argparse.py:769(Action)\n",
      "        1    0.000    0.000    0.000    0.000 C:\\Program Files\\Python39\\lib\\argparse.py:1617(_ArgumentGroup)\n",
      "        3    0.000    0.000    0.000    0.000 {method 'items' of 'dict' objects}\n",
      "        7    0.000    0.000    0.000    0.000 {built-in method builtins.ord}\n",
      "        1    0.000    0.000    0.000    0.000 C:\\Program Files\\Python39\\lib\\shutil.py:79(ExecError)\n",
      "        1    0.000    0.000    0.000    0.000 C:\\Program Files\\Python39\\lib\\argparse.py:705(MetavarTypeHelpFormatter)\n",
      "        1    0.000    0.000    0.000    0.000 C:\\Program Files\\Python39\\lib\\argparse.py:1287(Namespace)\n",
      "        4    0.000    0.000    0.000    0.000 {method '__contains__' of 'frozenset' objects}\n",
      "        1    0.000    0.000    0.000    0.000 {method 'disable' of '_lsprof.Profiler' objects}\n",
      "        1    0.000    0.000    0.000    0.000 C:\\Program Files\\Python39\\lib\\pickle.py:73(PickleError)\n",
      "        1    0.000    0.000    0.000    0.000 C:\\Program Files\\Python39\\lib\\threading.py:778(<listcomp>)\n",
      "        1    0.000    0.000    0.000    0.000 C:\\Program Files\\Python39\\lib\\argparse.py:938(_StoreConstAction)\n",
      "        1    0.000    0.000    0.000    0.000 C:\\Program Files\\Python39\\lib\\argparse.py:1083(_HelpAction)\n",
      "        1    0.000    0.000    0.000    0.000 C:\\Program Files\\Python39\\lib\\argparse.py:1232(FileType)\n",
      "        1    0.000    0.000    0.000    0.000 C:\\Program Files\\Python39\\lib\\argparse.py:1651(_MutuallyExclusiveGroup)\n",
      "        1    0.000    0.000    0.000    0.000 {method 'translate' of 'bytearray' objects}\n",
      "        1    0.000    0.000    0.000    0.000 {method 'difference_update' of 'set' objects}\n",
      "        1    0.000    0.000    0.000    0.000 C:\\Program Files\\Python39\\lib\\sre_parse.py:168(__setitem__)\n",
      "        1    0.000    0.000    0.000    0.000 C:\\Program Files\\Python39\\lib\\shutil.py:69(Error)\n",
      "        1    0.000    0.000    0.000    0.000 <string>:1(<module>)\n",
      "        1    0.000    0.000    0.000    0.000 C:\\Program Files\\Python39\\lib\\argparse.py:666(RawDescriptionHelpFormatter)\n",
      "        1    0.000    0.000    0.000    0.000 C:\\Program Files\\Python39\\lib\\argparse.py:903(_StoreAction)\n",
      "        1    0.000    0.000    0.000    0.000 C:\\Program Files\\Python39\\lib\\argparse.py:961(_StoreTrueAction)\n",
      "        1    0.000    0.000    0.000    0.000 C:\\Program Files\\Python39\\lib\\argparse.py:978(_StoreFalseAction)\n",
      "        1    0.000    0.000    0.000    0.000 C:\\Program Files\\Python39\\lib\\pickle.py:77(PicklingError)\n",
      "        1    0.000    0.000    0.000    0.000 C:\\Program Files\\Python39\\lib\\pickle.py:97(_Stop)\n",
      "        1    0.000    0.000    0.000    0.000 C:\\Program Files\\Python39\\lib\\shutil.py:72(SameFileError)\n",
      "        1    0.000    0.000    0.000    0.000 C:\\Program Files\\Python39\\lib\\threading.py:1140(daemon)\n",
      "        1    0.000    0.000    0.000    0.000 C:\\Program Files\\Python39\\lib\\threading.py:1305(_MainThread)\n",
      "        1    0.000    0.000    0.000    0.000 C:\\Program Files\\Python39\\lib\\argparse.py:201(_Section)\n",
      "        1    0.000    0.000    0.000    0.000 C:\\Program Files\\Python39\\lib\\argparse.py:677(RawTextHelpFormatter)\n",
      "        1    0.000    0.000    0.000    0.000 C:\\Program Files\\Python39\\lib\\argparse.py:688(ArgumentDefaultsHelpFormatter)\n",
      "        1    0.000    0.000    0.000    0.000 C:\\Program Files\\Python39\\lib\\argparse.py:740(ArgumentError)\n",
      "        1    0.000    0.000    0.000    0.000 C:\\Program Files\\Python39\\lib\\argparse.py:760(ArgumentTypeError)\n",
      "        1    0.000    0.000    0.000    0.000 C:\\Program Files\\Python39\\lib\\argparse.py:995(_AppendAction)\n",
      "        1    0.000    0.000    0.000    0.000 C:\\Program Files\\Python39\\lib\\argparse.py:1033(_AppendConstAction)\n",
      "        1    0.000    0.000    0.000    0.000 C:\\Program Files\\Python39\\lib\\argparse.py:1060(_CountAction)\n",
      "        1    0.000    0.000    0.000    0.000 C:\\Program Files\\Python39\\lib\\argparse.py:1130(_ChoicesPseudoAction)\n",
      "        1    0.000    0.000    0.000    0.000 C:\\Program Files\\Python39\\lib\\argparse.py:1221(_ExtendAction)\n",
      "        1    0.000    0.000    0.000    0.000 {method '__enter__' of '_thread.lock' objects}\n",
      "        1    0.000    0.000    0.000    0.000 C:\\Program Files\\Python39\\lib\\pickle.py:84(UnpicklingError)\n",
      "        1    0.000    0.000    0.000    0.000 C:\\Program Files\\Python39\\lib\\shutil.py:75(SpecialFileError)\n",
      "        1    0.000    0.000    0.000    0.000 C:\\Program Files\\Python39\\lib\\shutil.py:82(ReadError)\n",
      "        1    0.000    0.000    0.000    0.000 C:\\Program Files\\Python39\\lib\\shutil.py:85(RegistryError)\n",
      "        1    0.000    0.000    0.000    0.000 C:\\Program Files\\Python39\\lib\\shutil.py:89(_GiveupOnFastCopy)\n",
      "        1    0.000    0.000    0.000    0.000 C:\\Program Files\\Python39\\lib\\threading.py:743(BrokenBarrierError)\n",
      "        1    0.000    0.000    0.000    0.000 {method '__exit__' of '_thread.RLock' objects}\n",
      "        1    0.000    0.000    0.000    0.000 {built-in method _thread.get_native_id}\n",
      "        1    0.000    0.000    0.000    0.000 {built-in method sys._getframe}\n",
      "\n",
      "\n"
     ]
    },
    {
     "data": {
      "text/plain": [
       "<pstats.Stats at 0x21f58142730>"
      ]
     },
     "execution_count": 7,
     "metadata": {},
     "output_type": "execute_result"
    }
   ],
   "source": [
    "import pstats\n",
    "\n",
    "p = pstats.Stats(\"profile.stats\")\n",
    "p.sort_stats(\"cumulative\")\n",
    "p.print_stats()"
   ]
  },
  {
   "cell_type": "markdown",
   "id": "ef3d38d0-1090-444c-bd27-2fe734297492",
   "metadata": {},
   "source": [
    "SnakeViz to visualize the profiling information from cProfile"
   ]
  },
  {
   "cell_type": "code",
   "execution_count": 8,
   "id": "751ab09f-f478-4349-a376-90d73fdb6b4c",
   "metadata": {},
   "outputs": [
    {
     "name": "stdout",
     "output_type": "stream",
     "text": [
      "^C\n"
     ]
    }
   ],
   "source": [
    "! python -m snakeviz profile.stats --server"
   ]
  },
  {
   "cell_type": "markdown",
   "id": "fa9cc436-2f67-4eab-8b6e-16088b8a1db7",
   "metadata": {},
   "source": [
    "line_profiler"
   ]
  },
  {
   "cell_type": "code",
   "execution_count": 9,
   "id": "59e4ca8a-8916-406d-89b1-ec62e50e26c8",
   "metadata": {},
   "outputs": [
    {
     "name": "stdout",
     "output_type": "stream",
     "text": [
      "### Raw Timing ###\n",
      "run_experiment took 187.430986 seconds\n",
      "Wrote profile results to D.py.lprof\n",
      "Inspect results with:\n",
      "C:\\Program Files\\Python39\\python.exe -m line_profiler -rmt \"D.py.lprof\"\n"
     ]
    }
   ],
   "source": [
    "! python -m kernprof -l D.py"
   ]
  },
  {
   "cell_type": "code",
   "execution_count": 10,
   "id": "afb162a9-b41f-4db1-9447-86801c4e0d85",
   "metadata": {},
   "outputs": [
    {
     "name": "stdout",
     "output_type": "stream",
     "text": [
      "Timer unit: 1e-06 s\n",
      "\n",
      "Total time: 129.756 s\n",
      "File: D.py\n",
      "Function: evolve at line 6\n",
      "\n",
      "Line #      Hits         Time  Per Hit   % Time  Line Contents\n",
      "==============================================================\n",
      "     6                                           @profile\n",
      "     7                                           def evolve(grid, dt, D=1.0):\n",
      "     8       100        123.5      1.2      0.0      xmax, ymax = grid_shape\n",
      "     9       100     102960.4   1029.6      0.1      new_grid = [[0.0] * ymax for x in range(xmax)]\n",
      "    10     64100      24081.4      0.4      0.0      for i in range(xmax):\n",
      "    11  41024000   13994850.7      0.3     10.8          for j in range(ymax):\n",
      "    12  40960000   12561960.1      0.3      9.7              grid_xx = (\n",
      "    13  40960000   33549257.2      0.8     25.9                  grid[(i + 1) % xmax][j] + grid[(i - 1) % xmax][j] - 2.0 * grid[i][j]\n",
      "    14                                                       )\n",
      "    15  40960000   12804055.5      0.3      9.9              grid_yy = (\n",
      "    16  40960000   32467292.7      0.8     25.0                  grid[i][(j + 1) % ymax] + grid[i][(j - 1) % ymax] - 2.0 * grid[i][j]\n",
      "    17                                                       )\n",
      "    18  40960000   24251291.3      0.6     18.7              new_grid[i][j] = grid[i][j] + D * (grid_xx + grid_yy) * dt\n",
      "    19       100         58.8      0.6      0.0      return new_grid\n",
      "\n"
     ]
    }
   ],
   "source": [
    "! python -m line_profiler D.py.lprof"
   ]
  },
  {
   "cell_type": "markdown",
   "id": "76e4cb89-c0c8-4670-a7d0-aabded026ab6",
   "metadata": {},
   "source": [
    "Task 2.2 Memory-profiler and mprof"
   ]
  },
  {
   "cell_type": "code",
   "execution_count": 11,
   "id": "ae3167f4-b30e-44a0-9b33-b4a7c6247359",
   "metadata": {},
   "outputs": [
    {
     "name": "stdout",
     "output_type": "stream",
     "text": [
      "^C\n"
     ]
    }
   ],
   "source": [
    "! python -m memory_profiler D.py "
   ]
  },
  {
   "cell_type": "code",
   "execution_count": null,
   "id": "f4aa2d70-2969-40ac-b399-e501c652a8f0",
   "metadata": {},
   "outputs": [],
   "source": [
    "### Raw Timing ###\n",
    "run_experiment took 845.408120 seconds\n",
    "Filename: D.py\n",
    "     7   64.957 MiB   -0.289 MiB          10       xmax, ymax = grid_shape\n",
    "     8   66.199 MiB -5647.887 MiB        6430       new_grid = [[0.0] * ymax for x in range(xmax)]\n",
    "     9   76.547 MiB -32348.766 MiB        6410       for i in range(xmax):\n",
    "    10   76.547 MiB -20763939.105 MiB     4102400           for j in range(ymax):\n",
    "    11   76.547 MiB -20731476.512 MiB     4096000               grid_xx = (\n",
    "    12   76.547 MiB -20731591.172 MiB     4096000                   grid[(i + 1) % xmax][j] + grid[(i - 1) % xmax][j] - 2.0 * grid[i][j]\n",
    "    13                                                     )\n",
    "    14   76.547 MiB -20731501.887 MiB     4096000               grid_yy = (\n",
    "    15   76.547 MiB -20731501.867 MiB     4096000                   grid[i][(j + 1) % ymax] + grid[i][(j - 1) % ymax] - 2.0 * grid[i][j]\n",
    "    16                                                     )\n",
    "    17   76.547 MiB -20731501.891 MiB     4096000               new_grid[i][j] = grid[i][j] + D * (grid_xx + grid_yy) * dt\n",
    "    18   76.547 MiB   -0.758 MiB          10       return new_grid"
   ]
  },
  {
   "cell_type": "code",
   "execution_count": 12,
   "id": "4157b7bc-da20-48a9-baff-999172d0d630",
   "metadata": {},
   "outputs": [
    {
     "name": "stdout",
     "output_type": "stream",
     "text": [
      "### Raw Timing ###\n",
      "run_experiment took 3.713642 seconds\n",
      "mprof.py: Sampling memory every 0.1s\n",
      "running new process\n",
      "running as a Python program...\n"
     ]
    }
   ],
   "source": [
    "! python -m mprof run D.py"
   ]
  },
  {
   "cell_type": "code",
   "execution_count": 13,
   "id": "fd6d2d40-1f4e-4d85-9233-2d5165c37098",
   "metadata": {},
   "outputs": [
    {
     "name": "stdout",
     "output_type": "stream",
     "text": [
      "Figure(1260x540)\n"
     ]
    }
   ],
   "source": [
    "! python -m mprof plot mprofile_20250130184841.dat"
   ]
  },
  {
   "cell_type": "code",
   "execution_count": null,
   "id": "6e7a6bcb-9b88-40a4-be00-c5fdcbf2594b",
   "metadata": {},
   "outputs": [],
   "source": []
  }
 ],
 "metadata": {
  "kernelspec": {
   "display_name": "Python 3 (ipykernel)",
   "language": "python",
   "name": "python3"
  },
  "language_info": {
   "codemirror_mode": {
    "name": "ipython",
    "version": 3
   },
   "file_extension": ".py",
   "mimetype": "text/x-python",
   "name": "python",
   "nbconvert_exporter": "python",
   "pygments_lexer": "ipython3",
   "version": "3.9.10"
  }
 },
 "nbformat": 4,
 "nbformat_minor": 5
}
