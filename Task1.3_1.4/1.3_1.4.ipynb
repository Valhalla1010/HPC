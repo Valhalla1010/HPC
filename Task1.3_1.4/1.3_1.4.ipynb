{
 "cells": [
  {
   "cell_type": "markdown",
   "id": "6dd5bbaa-8c05-42a1-b7aa-29bfe10c8f57",
   "metadata": {},
   "source": [
    "Task1.3"
   ]
  },
  {
   "cell_type": "markdown",
   "id": "9d9625e2-83ce-4925-87c9-8316f28dac0d",
   "metadata": {
    "jupyter": {
     "source_hidden": true
    }
   },
   "source": [
    "Result of cProfile"
   ]
  },
  {
   "cell_type": "code",
   "execution_count": 1,
   "id": "d03c417d-9804-4f95-9392-4c04ef570158",
   "metadata": {},
   "outputs": [
    {
     "name": "stdout",
     "output_type": "stream",
     "text": [
      "Length of x: 1000\n",
      "Total elements: 1000000\n",
      "calculate_z_serial_purepython took 11.474433183670044 seconds\n"
     ]
    }
   ],
   "source": [
    "! python -m cProfile -o profile.stats JuliaSet.py"
   ]
  },
  {
   "cell_type": "code",
   "execution_count": 2,
   "id": "7b8b9957-10fc-440c-b0c1-33cad3551cac",
   "metadata": {
    "scrolled": true
   },
   "outputs": [
    {
     "name": "stdout",
     "output_type": "stream",
     "text": [
      "Thu Jan 23 22:38:48 2025    profile.stats\n",
      "\n",
      "         36222023 function calls in 12.166 seconds\n",
      "\n",
      "   Ordered by: cumulative time\n",
      "\n",
      "   ncalls  tottime  percall  cumtime  percall filename:lineno(function)\n",
      "        1    0.000    0.000   12.166   12.166 {built-in method builtins.exec}\n",
      "        1    0.026    0.026   12.166   12.166 JuliaSet.py:1(<module>)\n",
      "        1    0.492    0.492   12.140   12.140 JuliaSet.py:21(calc_pure_python)\n",
      "        1    7.373    7.373   11.474   11.474 JuliaSet.py:59(calculate_z_serial_purepython)\n",
      " 34219980    4.101    0.000    4.101    0.000 {built-in method builtins.abs}\n",
      "  2002000    0.168    0.000    0.168    0.000 {method 'append' of 'list' objects}\n",
      "        1    0.007    0.007    0.007    0.007 {built-in method builtins.sum}\n",
      "        3    0.000    0.000    0.000    0.000 {built-in method builtins.print}\n",
      "       14    0.000    0.000    0.000    0.000 C:\\Program Files\\Python39\\lib\\encodings\\cp1252.py:18(encode)\n",
      "       14    0.000    0.000    0.000    0.000 {built-in method _codecs.charmap_encode}\n",
      "        2    0.000    0.000    0.000    0.000 {built-in method time.time}\n",
      "        4    0.000    0.000    0.000    0.000 {built-in method builtins.len}\n",
      "        1    0.000    0.000    0.000    0.000 {method 'disable' of '_lsprof.Profiler' objects}\n",
      "\n",
      "\n"
     ]
    },
    {
     "data": {
      "text/plain": [
       "<pstats.Stats at 0x293bb75d4c0>"
      ]
     },
     "execution_count": 2,
     "metadata": {},
     "output_type": "execute_result"
    }
   ],
   "source": [
    "import pstats\n",
    "p = pstats.Stats(\"profile.stats\")\n",
    "p.sort_stats(\"cumulative\")\n",
    "p.print_stats()"
   ]
  },
  {
   "cell_type": "markdown",
   "id": "33a59c95-450b-4ad7-b492-47c7d2749545",
   "metadata": {},
   "source": [
    "We can see that the entry point to the code on line 1 takes a total of 12.16 seconds and ncalls is 1, that means this line executed only once.\n",
    "Inside calc_pure_python, the call to calculate_z_serial_purepython consumes 11.47 seconds and both functions are called only once. \n",
    "Inside calculate_z_serial_purepython, the time spent lines of code (without calling other funktion) is 7.3 seconds. This function makes 34,219,980 calls to abs, which take a total of 4.1, along with other calls that do not cost much time.\n",
    "The next line i profiled output {method 'append' of 'list' objects}, details the creation of 2,002,000 list items. This creation items is occuring calc_pure_python during the setup phase. Minimal overhead input generation(zs and cs construction).\n",
    "The final line of the profiling output refers to lsprof. This is the orginal name of the tool that evolved into cProfile and can be ignore.\n"
   ]
  },
  {
   "cell_type": "markdown",
   "id": "6f30b584-154d-4fb6-8564-beb34fa5ffaf",
   "metadata": {},
   "source": [
    "Result of line_profiler"
   ]
  },
  {
   "cell_type": "code",
   "execution_count": 5,
   "id": "09c6013f-4ea3-44f1-92da-9992e0f77835",
   "metadata": {},
   "outputs": [
    {
     "name": "stdout",
     "output_type": "stream",
     "text": [
      "Length of x: 1000\n",
      "Total elements: 1000000\n",
      "calculate_z_serial_purepython took 71.96590089797974 seconds\n",
      "Wrote profile results to JuliaSet_line.py.lprof\n",
      "Inspect results with:\n",
      "C:\\Program Files\\Python39\\python.exe -m line_profiler -rmt \"JuliaSet_line.py.lprof\"\n"
     ]
    }
   ],
   "source": [
    "! python -m kernprof -l JuliaSet_line.py"
   ]
  },
  {
   "cell_type": "code",
   "execution_count": 6,
   "id": "a2add6c2-0983-4c71-90bd-fc6146953469",
   "metadata": {},
   "outputs": [
    {
     "name": "stdout",
     "output_type": "stream",
     "text": [
      "Timer unit: 1e-06 s\n",
      "\n",
      "Total time: 73.6534 s\n",
      "File: JuliaSet_line.py\n",
      "Function: calc_pure_python at line 21\n",
      "\n",
      "Line #      Hits         Time  Per Hit   % Time  Line Contents\n",
      "==============================================================\n",
      "    21                                           @profile\n",
      "    22                                           def calc_pure_python(desired_width, max_iterations):\n",
      "    23                                               \"\"\"Create a list of complex coordinates (zs) and complex parameters (cs),\n",
      "    24                                               build Julia set\"\"\"\n",
      "    25         1          1.1      1.1      0.0      x_step = (x2 - x1) / desired_width\n",
      "    26         1          0.5      0.5      0.0      y_step = (y1 - y2) / desired_width\n",
      "    27         1          0.3      0.3      0.0      x = []\n",
      "    28         1          0.4      0.4      0.0      y = []\n",
      "    29         1          0.3      0.3      0.0      ycoord = y2\n",
      "    30      1001        382.5      0.4      0.0      while ycoord > y1:\n",
      "    31      1000        436.2      0.4      0.0          y.append(ycoord)\n",
      "    32      1000        357.5      0.4      0.0          ycoord += y_step\n",
      "    33         1          0.3      0.3      0.0      xcoord = x1\n",
      "    34      1001        402.8      0.4      0.0      while xcoord < x2:\n",
      "    35      1000        450.7      0.5      0.0          x.append(xcoord)\n",
      "    36      1000        384.4      0.4      0.0          xcoord += x_step\n",
      "    37                                               # build a list of coordinates and the initial condition for each cell.\n",
      "    38                                               # Note that our initial condition is a constant and could easily be removed,\n",
      "    39                                               # we use it to simulate a real-world scenario with several inputs to our\n",
      "    40                                               # function\n",
      "    41         1          0.4      0.4      0.0      zs = []\n",
      "    42         1          0.3      0.3      0.0      cs = []\n",
      "    43      1001        443.3      0.4      0.0      for ycoord in y:\n",
      "    44   1001000     387121.3      0.4      0.5          for xcoord in x:\n",
      "    45   1000000     639840.9      0.6      0.9              zs.append(complex(xcoord, ycoord))\n",
      "    46   1000000     651031.2      0.7      0.9              cs.append(complex(c_real, c_imag))\n",
      "    47                                           \n",
      "    48         1         61.2     61.2      0.0      print(\"Length of x:\", len(x))\n",
      "    49         1          5.5      5.5      0.0      print(\"Total elements:\", len(zs))\n",
      "    50         1         19.5     19.5      0.0      start_time = time.time()\n",
      "    51         1   71965878.0    7e+07     97.7      output = calculate_z_serial_purepython(max_iterations, zs, cs)\n",
      "    52         1          3.2      3.2      0.0      end_time = time.time()\n",
      "    53         1          0.9      0.9      0.0      secs = end_time - start_time\n",
      "    54         1         30.6     30.6      0.0      print(calculate_z_serial_purepython.__name__ + \" took\", secs, \"seconds\")\n",
      "    55                                           \n",
      "    56                                               # This sum is expected for a 1000^2 grid with 300 iterations\n",
      "    57                                               # It ensures that our code evolves exactly as we'd intended\n",
      "    58         1       6569.8   6569.8      0.0      assert sum(output) == 33219980\n",
      "\n",
      "Total time: 46.0195 s\n",
      "File: JuliaSet_line.py\n",
      "Function: calculate_z_serial_purepython at line 61\n",
      "\n",
      "Line #      Hits         Time  Per Hit   % Time  Line Contents\n",
      "==============================================================\n",
      "    61                                           @profile\n",
      "    62                                           def calculate_z_serial_purepython(maxiter, zs, cs):\n",
      "    63                                               \"\"\"Calculate output list using Julia update rule\"\"\"\n",
      "    64         1       2168.5   2168.5      0.0      output = [0] * len(zs)\n",
      "    65   1000001     369574.8      0.4      0.8      for i in range(len(zs)):\n",
      "    66   1000000     334508.6      0.3      0.7          n = 0\n",
      "    67   1000000     384180.7      0.4      0.8          z = zs[i]\n",
      "    68   1000000     362575.5      0.4      0.8          c = cs[i]\n",
      "    69  34219980   19020276.1      0.6     41.3          while abs(z) < 2 and n < maxiter:\n",
      "    70  33219980   13185895.3      0.4     28.7              z = z * z + c\n",
      "    71  33219980   11975325.5      0.4     26.0              n += 1\n",
      "    72   1000000     385027.5      0.4      0.8          output[i] = n\n",
      "    73         1          0.5      0.5      0.0      return output\n",
      "\n"
     ]
    }
   ],
   "source": [
    "! python -m line_profiler JuliaSet_line.py.lprof"
   ]
  },
  {
   "cell_type": "markdown",
   "id": "a0f46108-19e9-4618-9121-f80c8607102f",
   "metadata": {},
   "source": [
    "I the line 69 we can see that 41% of the time is spend on the while testing."
   ]
  },
  {
   "cell_type": "markdown",
   "id": "130d2637-5fbb-4fd0-b3b6-f98c3e9cf45c",
   "metadata": {},
   "source": [
    "Measure Overhead"
   ]
  },
  {
   "cell_type": "code",
   "execution_count": 8,
   "id": "9b3fcfa5-06e6-4fff-87ab-3841c1776ce4",
   "metadata": {},
   "outputs": [
    {
     "name": "stdout",
     "output_type": "stream",
     "text": [
      "Length of x: 1000\n",
      "Total elements: 1000000\n",
      "calculate_z_serial_purepython took 6.8797101974487305 seconds\n",
      "Time without profiler: 7.435228586196899 seconds\n"
     ]
    }
   ],
   "source": [
    "import time\n",
    "from JuliaSet import calc_pure_python\n",
    "\n",
    "if __name__ == \"__main__\":\n",
    "    start = time.time()\n",
    "    ! python JuliaSet.py\n",
    "    end = time.time()\n",
    "    print(f\"Time without profiler: {end - start} seconds\")"
   ]
  },
  {
   "cell_type": "code",
   "execution_count": 11,
   "id": "1397f0e3-bba3-485d-8859-edf1bcd96b4b",
   "metadata": {},
   "outputs": [
    {
     "name": "stdout",
     "output_type": "stream",
     "text": [
      "Length of x: 1000\n",
      "Total elements: 1000000\n",
      "calculate_z_serial_purepython took 12.200028896331787 seconds\n",
      "Time with CProfil: 13.100570917129517 seconds\n"
     ]
    }
   ],
   "source": [
    "import time\n",
    "\n",
    "if __name__ == \"__main__\":\n",
    "    start = time.time()\n",
    "    ! python -m cProfile -o profile.stats JuliaSet.py\n",
    "    end = time.time()\n",
    "    print(f\"Time with CProfil: {end - start} seconds\")"
   ]
  },
  {
   "cell_type": "code",
   "execution_count": 13,
   "id": "1559b91d-721f-42d8-b9dc-6fe684c77d82",
   "metadata": {},
   "outputs": [
    {
     "name": "stdout",
     "output_type": "stream",
     "text": [
      "Length of x: 1000Time with line_Profiler: 72.221431016922 seconds\n",
      "\n",
      "Total elements: 1000000\n",
      "calculate_z_serial_purepython took 69.64492201805115 seconds\n",
      "Wrote profile results to JuliaSet_line.py.lprof\n",
      "Inspect results with:\n",
      "C:\\Program Files\\Python39\\python.exe -m line_profiler -rmt \"JuliaSet_line.py.lprof\"\n"
     ]
    }
   ],
   "source": [
    "import time\n",
    "\n",
    "if __name__ == \"__main__\":\n",
    "    start = time.time()\n",
    "    ! python -m kernprof -l JuliaSet_line.py\n",
    "    end = time.time()\n",
    "    print(f\"Time with line_Profiler: {end - start} seconds\")"
   ]
  },
  {
   "cell_type": "markdown",
   "id": "61e31bcd-0d9e-4187-ac32-c908e6ed9471",
   "metadata": {},
   "source": [
    "Task 1.4"
   ]
  },
  {
   "cell_type": "code",
   "execution_count": 22,
   "id": "04faafea-c838-4c10-9aa4-f5dd444a17a0",
   "metadata": {},
   "outputs": [
    {
     "name": "stdout",
     "output_type": "stream",
     "text": [
      "Length of x: 1000\n",
      "Total elements: 1000000\n",
      "calculate_z_serial_purepython took 3794.364349603653 seconds\n",
      "Filename: JuliaSet_line.py\n",
      "\n",
      "Line #    Mem usage    Increment  Occurrences   Line Contents\n",
      "=============================================================\n",
      "    61  121.941 MiB  121.941 MiB           1   @profile\n",
      "    62                                         def calculate_z_serial_purepython(maxiter, zs, cs):\n",
      "    63                                             \"\"\"Calculate output list using Julia update rule\"\"\"\n",
      "    64  129.582 MiB    7.641 MiB           1       output = [0] * len(zs)\n",
      "    65  132.262 MiB -23229.176 MiB     1000001       for i in range(len(zs)):\n",
      "    66  132.262 MiB -23229.164 MiB     1000000           n = 0\n",
      "    67  132.262 MiB -23229.168 MiB     1000000           z = zs[i]\n",
      "    68  132.262 MiB -23229.176 MiB     1000000           c = cs[i]\n",
      "    69  132.262 MiB -908201.262 MiB    34219980           while abs(z) < 2 and n < maxiter:\n",
      "    70  132.262 MiB -884974.910 MiB    33219980               z = z * z + c\n",
      "    71  132.262 MiB -884975.148 MiB    33219980               n += 1\n",
      "    72  132.262 MiB -23229.164 MiB     1000000           output[i] = n\n",
      "    73  132.262 MiB    0.000 MiB           1       return output\n",
      "\n",
      "\n"
     ]
    }
   ],
   "source": [
    "! python -m memory_profiler JuliaSet_line.py"
   ]
  },
  {
   "cell_type": "code",
   "execution_count": 1,
   "id": "cb8c03aa-3fc0-4ea8-9970-f540786bbf48",
   "metadata": {},
   "outputs": [
    {
     "name": "stdout",
     "output_type": "stream",
     "text": [
      "Length of x: 1000\n",
      "Total elements: 1000000\n",
      "calculate_z_serial_purepython took 6.744645595550537 seconds\n",
      "mprof.py: Sampling memory every 0.1s\n",
      "running new process\n",
      "running as a Python program...\n"
     ]
    }
   ],
   "source": [
    "! python -m mprof run JuliaSet_line.py"
   ]
  },
  {
   "cell_type": "code",
   "execution_count": 2,
   "id": "62f88f01-9fce-4b20-8d26-d63964da0555",
   "metadata": {},
   "outputs": [
    {
     "name": "stdout",
     "output_type": "stream",
     "text": [
      "Figure(1260x540)\n"
     ]
    }
   ],
   "source": [
    "! python -m mprof plot mprofile_20250124152035.dat"
   ]
  },
  {
   "cell_type": "code",
   "execution_count": 3,
   "id": "387e700f-53fb-4a77-b380-59d95dcd6879",
   "metadata": {},
   "outputs": [
    {
     "name": "stdout",
     "output_type": "stream",
     "text": [
      "Length of x: 1000\n",
      "Total elements: 1000000\n",
      "calculate_z_serial_purepython took 79.87772274017334 seconds\n",
      "Filename: JuliaSet_line.py\n",
      "\n",
      "Line #    Mem usage    Increment  Occurrences   Line Contents\n",
      "=============================================================\n",
      "    21   44.461 MiB   44.461 MiB           1   @profile\n",
      "    22                                         def calc_pure_python(desired_width, max_iterations):\n",
      "    23                                             \"\"\"Create a list of complex coordinates (zs) and complex parameters (cs),\n",
      "    24                                             build Julia set\"\"\"\n",
      "    25   44.461 MiB    0.000 MiB           1       x_step = (x2 - x1) / desired_width\n",
      "    26   44.461 MiB    0.000 MiB           1       y_step = (y1 - y2) / desired_width\n",
      "    27   44.461 MiB    0.000 MiB           1       x = []\n",
      "    28   44.461 MiB    0.000 MiB           1       y = []\n",
      "    29   44.461 MiB    0.000 MiB           1       ycoord = y2\n",
      "    30   44.539 MiB    0.016 MiB        1001       while ycoord > y1:\n",
      "    31   44.539 MiB    0.062 MiB        1000           y.append(ycoord)\n",
      "    32   44.539 MiB    0.000 MiB        1000           ycoord += y_step\n",
      "    33   44.539 MiB    0.000 MiB           1       xcoord = x1\n",
      "    34   44.582 MiB    0.027 MiB        1001       while xcoord < x2:\n",
      "    35   44.582 MiB    0.016 MiB        1000           x.append(xcoord)\n",
      "    36   44.582 MiB    0.000 MiB        1000           xcoord += x_step\n",
      "    37                                             # build a list of coordinates and the initial condition for each cell.\n",
      "    38                                             # Note that our initial condition is a constant and could easily be removed,\n",
      "    39                                             # we use it to simulate a real-world scenario with several inputs to our\n",
      "    40                                             # function\n",
      "    41   44.582 MiB    0.000 MiB           1       zs = []\n",
      "    42   44.582 MiB    0.000 MiB           1       cs = []\n",
      "    43  121.938 MiB  -10.164 MiB        1001       for ycoord in y:\n",
      "    44  121.938 MiB -10104.148 MiB     1001000           for xcoord in x:\n",
      "    45  121.938 MiB -10102.086 MiB     1000000               zs.append(complex(xcoord, ycoord))\n",
      "    46  121.938 MiB -13810.441 MiB     1000000               cs.append(complex(c_real, c_imag))\n",
      "    47                                         \n",
      "    48  121.945 MiB    0.008 MiB           1       print(\"Length of x:\", len(x))\n",
      "    49  121.945 MiB    0.000 MiB           1       print(\"Total elements:\", len(zs))\n",
      "    50  121.945 MiB    0.000 MiB           1       start_time = time.time()\n",
      "    51  132.688 MiB   10.742 MiB           1       output = calculate_z_serial_purepython(max_iterations, zs, cs)\n",
      "    52  132.688 MiB    0.000 MiB           1       end_time = time.time()\n",
      "    53  132.688 MiB    0.000 MiB           1       secs = end_time - start_time\n",
      "    54  132.688 MiB    0.000 MiB           1       print(calculate_z_serial_purepython.__name__ + \" took\", secs, \"seconds\")\n",
      "    55                                         \n",
      "    56                                             # This sum is expected for a 1000^2 grid with 300 iterations\n",
      "    57                                             # It ensures that our code evolves exactly as we'd intended\n",
      "    58  132.688 MiB    0.000 MiB           1       assert sum(output) == 33219980\n",
      "\n",
      "\n"
     ]
    }
   ],
   "source": [
    "! python -m memory_profiler JuliaSet_line.py"
   ]
  },
  {
   "cell_type": "code",
   "execution_count": 4,
   "id": "70601b7d-7687-42cc-af5d-6a0c858d7772",
   "metadata": {},
   "outputs": [
    {
     "name": "stdout",
     "output_type": "stream",
     "text": [
      "Length of x: 1000\n",
      "Total elements: 1000000\n",
      "calculate_z_serial_purepython took 6.868818521499634 seconds\n",
      "mprof.py: Sampling memory every 0.1s\n",
      "running new process\n",
      "running as a Python program...\n"
     ]
    }
   ],
   "source": [
    "! python -m mprof run JuliaSet_line.py"
   ]
  },
  {
   "cell_type": "code",
   "execution_count": 5,
   "id": "7bbf90f4-06fd-4e5f-898f-25b53048d94f",
   "metadata": {},
   "outputs": [
    {
     "name": "stdout",
     "output_type": "stream",
     "text": [
      "Figure(1260x540)\n"
     ]
    }
   ],
   "source": [
    "! python -m mprof plot mprofile_20250124154421.dat"
   ]
  },
  {
   "cell_type": "markdown",
   "id": "740a4b5c-9097-4ab5-aa07-6b58f476392a",
   "metadata": {},
   "source": [
    "Measure the overhead"
   ]
  },
  {
   "cell_type": "code",
   "execution_count": 13,
   "id": "9ec380da-2950-4cdb-80c2-7665f7858a4a",
   "metadata": {},
   "outputs": [
    {
     "name": "stdout",
     "output_type": "stream",
     "text": [
      "Time without memory_profiler: 0.1006 seconds\n",
      "Time with memory_profiler: 2628.5468 seconds\n",
      "Memory_profiler overhead: 2628.4462 seconds\n"
     ]
    }
   ],
   "source": [
    "\n",
    "import time\n",
    "import os\n",
    "\n",
    "\n",
    "start = time.time()\n",
    "os.system(\"python JuliaSet_line.py\")\n",
    "end = time.time()\n",
    "normal_time = end - start\n",
    "print(f\"Time without memory_profiler: {normal_time:.4f} seconds\")\n",
    "\n",
    "\n",
    "start = time.time()\n",
    "os.system(\"python -m memory_profiler JuliaSet_line.py\")\n",
    "end = time.time()\n",
    "profiler_time = end - start\n",
    "print(f\"Time with memory_profiler: {profiler_time:.4f} seconds\")\n",
    "\n",
    "\n",
    "overhead = profiler_time - normal_time\n",
    "print(f\"Memory_profiler overhead: {overhead:.4f} seconds\")\n"
   ]
  },
  {
   "cell_type": "code",
   "execution_count": 16,
   "id": "61114b9a-6a93-4e87-8f82-d579c1037b42",
   "metadata": {},
   "outputs": [
    {
     "name": "stdout",
     "output_type": "stream",
     "text": [
      "Time overhead with mprof: 8.5651 second\n"
     ]
    }
   ],
   "source": [
    "import time\n",
    "import os\n",
    "\n",
    "start = time.time()\n",
    "os.system(\"mprof run JuliaSet_line.py\")\n",
    "end = time.time()\n",
    "mprof_time = end - start\n",
    "print(f\"Time overhead with mprof: {mprof_time:.4f} second\")\n"
   ]
  },
  {
   "cell_type": "code",
   "execution_count": null,
   "id": "e16c86ec-366b-4a00-babd-2019da2b8cf6",
   "metadata": {},
   "outputs": [],
   "source": []
  }
 ],
 "metadata": {
  "kernelspec": {
   "display_name": "Python 3 (ipykernel)",
   "language": "python",
   "name": "python3"
  },
  "language_info": {
   "codemirror_mode": {
    "name": "ipython",
    "version": 3
   },
   "file_extension": ".py",
   "mimetype": "text/x-python",
   "name": "python",
   "nbconvert_exporter": "python",
   "pygments_lexer": "ipython3",
   "version": "3.9.10"
  }
 },
 "nbformat": 4,
 "nbformat_minor": 5
}
